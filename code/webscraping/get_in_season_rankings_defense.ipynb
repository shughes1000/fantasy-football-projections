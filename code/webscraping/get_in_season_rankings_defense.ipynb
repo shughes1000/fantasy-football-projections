{
 "cells": [
  {
   "cell_type": "code",
   "execution_count": 1,
   "metadata": {},
   "outputs": [],
   "source": [
    "from selenium import webdriver\n",
    "from selenium.webdriver.chrome.options import Options\n",
    "\n",
    "options = Options()\n",
    "options.add_argument('--headless')\n",
    "\n",
    "driver = webdriver.Chrome(options=options)"
   ]
  },
  {
   "cell_type": "code",
   "execution_count": 2,
   "metadata": {},
   "outputs": [],
   "source": [
    "import time\n",
    "import pandas as pd\n",
    "from io import StringIO\n",
    "\n",
    "def scrape_url(year, week):\n",
    "    driver.get(url=f\"https://www.fantasypros.com/nfl/rankings/dst.php?year={year}&week={week}\")\n",
    "    time.sleep(5)  # give time for page to load\n",
    "\n",
    "    data = pd.read_html(StringIO(driver.page_source))[0]\n",
    "    data = data[['RK', 'Player Name', 'OPP']]\n",
    "\n",
    "    # get rid of team from player name\n",
    "    data['Player Name'] = data['Player Name'].str.split(' \\(').str[0]\n",
    "\n",
    "    data.insert(0, \"Year\", year)\n",
    "    data.insert(1, \"Week\", week)\n",
    "\n",
    "    return data\n",
    "\n",
    "# scrape_url(2023, 1)"
   ]
  },
  {
   "cell_type": "code",
   "execution_count": 3,
   "metadata": {},
   "outputs": [
    {
     "name": "stderr",
     "output_type": "stream",
     "text": [
      "C:\\Users\\mhugh\\AppData\\Local\\Temp\\ipykernel_3312\\1166229690.py:2: TqdmExperimentalWarning: Using `tqdm.autonotebook.tqdm` in notebook mode. Use `tqdm.tqdm` instead to force console mode (e.g. in jupyter console)\n",
      "  from tqdm.autonotebook import tqdm\n"
     ]
    },
    {
     "data": {
      "application/vnd.jupyter.widget-view+json": {
       "model_id": "00cc37cf6b1240ac9b97cd7d6eff97fa",
       "version_major": 2,
       "version_minor": 0
      },
      "text/plain": [
       "  0%|          | 0/102 [00:00<?, ?it/s]"
      ]
     },
     "metadata": {},
     "output_type": "display_data"
    }
   ],
   "source": [
    "from itertools import product\n",
    "from tqdm.autonotebook import tqdm\n",
    "\n",
    "d = []\n",
    "for year, week in tqdm(list(product([year for year in range(2018, 2024)], [week for week in range(1, 18)]))):\n",
    "    if (week != 17) or (year >= 2021):\n",
    "        d.append(scrape_url(year, week))"
   ]
  },
  {
   "cell_type": "code",
   "execution_count": 4,
   "metadata": {},
   "outputs": [
    {
     "data": {
      "text/html": [
       "<div>\n",
       "<style scoped>\n",
       "    .dataframe tbody tr th:only-of-type {\n",
       "        vertical-align: middle;\n",
       "    }\n",
       "\n",
       "    .dataframe tbody tr th {\n",
       "        vertical-align: top;\n",
       "    }\n",
       "\n",
       "    .dataframe thead th {\n",
       "        text-align: right;\n",
       "    }\n",
       "</style>\n",
       "<table border=\"1\" class=\"dataframe\">\n",
       "  <thead>\n",
       "    <tr style=\"text-align: right;\">\n",
       "      <th></th>\n",
       "      <th>Year</th>\n",
       "      <th>Week</th>\n",
       "      <th>RK</th>\n",
       "      <th>Player Name</th>\n",
       "      <th>OPP</th>\n",
       "    </tr>\n",
       "  </thead>\n",
       "  <tbody>\n",
       "    <tr>\n",
       "      <th>0</th>\n",
       "      <td>2018</td>\n",
       "      <td>1</td>\n",
       "      <td>1</td>\n",
       "      <td>Baltimore Ravens</td>\n",
       "      <td>vs. BUF</td>\n",
       "    </tr>\n",
       "    <tr>\n",
       "      <th>1</th>\n",
       "      <td>2018</td>\n",
       "      <td>1</td>\n",
       "      <td>2</td>\n",
       "      <td>New Orleans Saints</td>\n",
       "      <td>vs. TB</td>\n",
       "    </tr>\n",
       "    <tr>\n",
       "      <th>2</th>\n",
       "      <td>2018</td>\n",
       "      <td>1</td>\n",
       "      <td>3</td>\n",
       "      <td>Jacksonville Jaguars</td>\n",
       "      <td>at NYG</td>\n",
       "    </tr>\n",
       "    <tr>\n",
       "      <th>3</th>\n",
       "      <td>2018</td>\n",
       "      <td>1</td>\n",
       "      <td>4</td>\n",
       "      <td>Los Angeles Rams</td>\n",
       "      <td>at LV</td>\n",
       "    </tr>\n",
       "    <tr>\n",
       "      <th>4</th>\n",
       "      <td>2018</td>\n",
       "      <td>1</td>\n",
       "      <td>5</td>\n",
       "      <td>Minnesota Vikings</td>\n",
       "      <td>vs. SF</td>\n",
       "    </tr>\n",
       "    <tr>\n",
       "      <th>...</th>\n",
       "      <td>...</td>\n",
       "      <td>...</td>\n",
       "      <td>...</td>\n",
       "      <td>...</td>\n",
       "      <td>...</td>\n",
       "    </tr>\n",
       "    <tr>\n",
       "      <th>2971</th>\n",
       "      <td>2023</td>\n",
       "      <td>17</td>\n",
       "      <td>28</td>\n",
       "      <td>Cincinnati Bengals</td>\n",
       "      <td>at KC</td>\n",
       "    </tr>\n",
       "    <tr>\n",
       "      <th>2972</th>\n",
       "      <td>2023</td>\n",
       "      <td>17</td>\n",
       "      <td>29</td>\n",
       "      <td>Detroit Lions</td>\n",
       "      <td>at DAL</td>\n",
       "    </tr>\n",
       "    <tr>\n",
       "      <th>2973</th>\n",
       "      <td>2023</td>\n",
       "      <td>17</td>\n",
       "      <td>30</td>\n",
       "      <td>New York Giants</td>\n",
       "      <td>vs. LAR</td>\n",
       "    </tr>\n",
       "    <tr>\n",
       "      <th>2974</th>\n",
       "      <td>2023</td>\n",
       "      <td>17</td>\n",
       "      <td>31</td>\n",
       "      <td>Arizona Cardinals</td>\n",
       "      <td>at PHI</td>\n",
       "    </tr>\n",
       "    <tr>\n",
       "      <th>2975</th>\n",
       "      <td>2023</td>\n",
       "      <td>17</td>\n",
       "      <td>32</td>\n",
       "      <td>Washington Commanders</td>\n",
       "      <td>vs. SF</td>\n",
       "    </tr>\n",
       "  </tbody>\n",
       "</table>\n",
       "<p>2976 rows × 5 columns</p>\n",
       "</div>"
      ],
      "text/plain": [
       "      Year  Week  RK            Player Name      OPP\n",
       "0     2018     1   1       Baltimore Ravens  vs. BUF\n",
       "1     2018     1   2     New Orleans Saints   vs. TB\n",
       "2     2018     1   3   Jacksonville Jaguars   at NYG\n",
       "3     2018     1   4       Los Angeles Rams    at LV\n",
       "4     2018     1   5      Minnesota Vikings   vs. SF\n",
       "...    ...   ...  ..                    ...      ...\n",
       "2971  2023    17  28     Cincinnati Bengals    at KC\n",
       "2972  2023    17  29          Detroit Lions   at DAL\n",
       "2973  2023    17  30        New York Giants  vs. LAR\n",
       "2974  2023    17  31      Arizona Cardinals   at PHI\n",
       "2975  2023    17  32  Washington Commanders   vs. SF\n",
       "\n",
       "[2976 rows x 5 columns]"
      ]
     },
     "execution_count": 4,
     "metadata": {},
     "output_type": "execute_result"
    }
   ],
   "source": [
    "df = pd.concat(d, ignore_index=True)\n",
    "\n",
    "df.insert(df.columns.get_loc('Player Name') + 1, 'POS', 'DST')\n",
    "\n",
    "df.rename(columns={'RK': 'POS RK'}, inplace=True)\n",
    "\n",
    "df"
   ]
  },
  {
   "cell_type": "code",
   "execution_count": 6,
   "metadata": {},
   "outputs": [
    {
     "data": {
      "text/plain": [
       "np.int64(26)"
      ]
     },
     "execution_count": 6,
     "metadata": {},
     "output_type": "execute_result"
    }
   ],
   "source": [
    "df.groupby(['Year', 'Week'])['Player Name'].count().min()"
   ]
  },
  {
   "cell_type": "code",
   "execution_count": 7,
   "metadata": {},
   "outputs": [
    {
     "data": {
      "text/plain": [
       "'Done'"
      ]
     },
     "execution_count": 7,
     "metadata": {},
     "output_type": "execute_result"
    }
   ],
   "source": [
    "df.to_parquet(r'..\\..\\data\\fantasypros_in_season_rankings\\defense_rankings.parquet')\n",
    "\n",
    "'Done'"
   ]
  }
 ],
 "metadata": {
  "kernelspec": {
   "display_name": "selenium_env",
   "language": "python",
   "name": "python3"
  },
  "language_info": {
   "codemirror_mode": {
    "name": "ipython",
    "version": 3
   },
   "file_extension": ".py",
   "mimetype": "text/x-python",
   "name": "python",
   "nbconvert_exporter": "python",
   "pygments_lexer": "ipython3",
   "version": "3.11.9"
  }
 },
 "nbformat": 4,
 "nbformat_minor": 2
}
